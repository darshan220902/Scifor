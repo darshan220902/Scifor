{
  "nbformat": 4,
  "nbformat_minor": 0,
  "metadata": {
    "colab": {
      "provenance": []
    },
    "kernelspec": {
      "name": "python3",
      "display_name": "Python 3"
    },
    "language_info": {
      "name": "python"
    }
  },
  "cells": [
    {
      "cell_type": "code",
      "execution_count": 2,
      "metadata": {
        "colab": {
          "base_uri": "https://localhost:8080/"
        },
        "id": "YxR8RsX3wHCY",
        "outputId": "316dc3db-287a-492f-85ac-c4799a9153c3"
      },
      "outputs": [
        {
          "output_type": "stream",
          "name": "stdout",
          "text": [
            "Epoch [10/100], Loss: 0.7139\n",
            "Epoch [20/100], Loss: 0.7106\n",
            "Epoch [30/100], Loss: 0.7077\n",
            "Epoch [40/100], Loss: 0.7050\n",
            "Epoch [50/100], Loss: 0.7025\n",
            "Epoch [60/100], Loss: 0.7002\n",
            "Epoch [70/100], Loss: 0.6982\n",
            "Epoch [80/100], Loss: 0.6963\n",
            "Epoch [90/100], Loss: 0.6945\n",
            "Epoch [100/100], Loss: 0.6929\n",
            "Accuracy: 50.00%\n"
          ]
        }
      ],
      "source": [
        "import torch\n",
        "import torch.nn as nn\n",
        "import torch.optim as optim\n",
        "import numpy as np\n",
        "\n",
        "np.random.seed(42)\n",
        "X = np.random.rand(100, 5)\n",
        "y = np.random.randint(0, 2, size=(100,))\n",
        "\n",
        "X_tensor = torch.tensor(X, dtype=torch.float32)\n",
        "y_tensor = torch.tensor(y, dtype=torch.float32)\n",
        "\n",
        "class MLP(nn.Module):\n",
        "    def __init__(self, input_size, hidden_size, output_size):\n",
        "        super(MLP, self).__init__()\n",
        "        self.fc1 = nn.Linear(input_size, hidden_size)\n",
        "        self.fc2 = nn.Linear(hidden_size, output_size)\n",
        "        self.relu = nn.ReLU()\n",
        "        self.sigmoid = nn.Sigmoid()\n",
        "\n",
        "    def forward(self, x):\n",
        "        x = self.fc1(x)\n",
        "        x = self.relu(x)\n",
        "        x = self.fc2(x)\n",
        "        x = self.sigmoid(x)\n",
        "        return x\n",
        "\n",
        "input_size = 5\n",
        "hidden_size = 10\n",
        "output_size = 1\n",
        "\n",
        "model = MLP(input_size, hidden_size, output_size)\n",
        "criterion = nn.BCELoss()\n",
        "optimizer = optim.SGD(model.parameters(), lr=0.01)\n",
        "\n",
        "\n",
        "num_epochs = 100\n",
        "for epoch in range(num_epochs):\n",
        "    outputs = model(X_tensor)\n",
        "    loss = criterion(outputs.squeeze(), y_tensor)\n",
        "\n",
        "    optimizer.zero_grad()\n",
        "    loss.backward()\n",
        "    optimizer.step()\n",
        "\n",
        "    if (epoch+1) % 10 == 0:\n",
        "        print(f'Epoch [{epoch+1}/{num_epochs}], Loss: {loss.item():.4f}')\n",
        "\n",
        "with torch.no_grad():\n",
        "    predicted = model(X_tensor).squeeze().round().numpy()\n",
        "    accuracy = np.mean(predicted == y)\n",
        "    print(f'Accuracy: {accuracy * 100:.2f}%')\n"
      ]
    },
    {
      "cell_type": "markdown",
      "source": [
        "1) Create a synthetic dataset with 100 samples and 5 features (X) and binary labels (y).\n",
        "\n",
        "2) Define a simple MLP model using the nn.Module class in PyTorch, consisting of two fully connected layers (nn.Linear), ReLU activation function, and sigmoid activation function for binary classification.\n",
        "\n",
        "3) We initialize the model, loss function (binary cross-entropy loss), and optimizer (Stochastic Gradient Descent).\n",
        "\n",
        "4) We train the model for a fixed number of epochs by performing forward pass, backward pass, and optimization steps.\n",
        "\n",
        "5)Every 10 epochs, we print the current loss.\n",
        "\n",
        "6)After training, we test the model on the same dataset and calculate the accuracy."
      ],
      "metadata": {
        "id": "EOWX7eOXzpXH"
      }
    },
    {
      "cell_type": "code",
      "source": [],
      "metadata": {
        "id": "4gxs7yBe0ljj"
      },
      "execution_count": null,
      "outputs": []
    }
  ]
}