{
 "cells": [
  {
   "cell_type": "code",
   "execution_count": 6,
   "id": "0b54d573",
   "metadata": {},
   "outputs": [
    {
     "name": "stdout",
     "output_type": "stream",
     "text": [
      "method D\n",
      "Method B\n"
     ]
    }
   ],
   "source": [
    "class A:\n",
    "    def methodA(self):\n",
    "        print(\"mehtod A\")\n",
    "class B(A):\n",
    "    def methodB(self):\n",
    "        print('Method B')\n",
    "class C(A):\n",
    "    def methodC(self):\n",
    "        print('method C')\n",
    "class D(B,C):\n",
    "    def methodD(self):\n",
    "        print('method D')\n",
    "d=D()\n",
    "d.methodD()\n",
    "d.methodB()\n"
   ]
  },
  {
   "cell_type": "code",
   "execution_count": 9,
   "id": "50ecdda9",
   "metadata": {},
   "outputs": [
    {
     "name": "stdout",
     "output_type": "stream",
     "text": [
      "hi class mi\n",
      "hello class mi\n"
     ]
    }
   ],
   "source": [
    "class hello:\n",
    "    def mi(self):\n",
    "        print('hello class mi')\n",
    "class hi:\n",
    "    def mi(self):\n",
    "        print('hi class mi')\n",
    "        \n",
    "h=hi()\n",
    "g=hello()\n",
    "h.mi()\n",
    "g.mi()\n",
    "\n"
   ]
  },
  {
   "cell_type": "code",
   "execution_count": null,
   "id": "ead81805",
   "metadata": {},
   "outputs": [],
   "source": []
  }
 ],
 "metadata": {
  "kernelspec": {
   "display_name": "Python 3",
   "language": "python",
   "name": "python3"
  },
  "language_info": {
   "codemirror_mode": {
    "name": "ipython",
    "version": 3
   },
   "file_extension": ".py",
   "mimetype": "text/x-python",
   "name": "python",
   "nbconvert_exporter": "python",
   "pygments_lexer": "ipython3",
   "version": "3.8.8"
  }
 },
 "nbformat": 4,
 "nbformat_minor": 5
}
