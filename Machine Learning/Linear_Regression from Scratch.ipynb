{
 "cells": [
  {
   "cell_type": "code",
   "execution_count": 13,
   "id": "336ad2db",
   "metadata": {},
   "outputs": [],
   "source": [
    "import numpy as np\n",
    "import pandas as pd\n",
    "import matplotlib.pyplot as plt\n",
    "import seaborn as sns\n",
    "from sklearn.model_selection import train_test_split"
   ]
  },
  {
   "cell_type": "code",
   "execution_count": 18,
   "id": "54589a85",
   "metadata": {},
   "outputs": [],
   "source": [
    "df=pd.read_csv('Dataset/Salary_dataset.csv')"
   ]
  },
  {
   "cell_type": "code",
   "execution_count": 19,
   "id": "cf925c0f",
   "metadata": {},
   "outputs": [
    {
     "data": {
      "text/html": [
       "<div>\n",
       "<style scoped>\n",
       "    .dataframe tbody tr th:only-of-type {\n",
       "        vertical-align: middle;\n",
       "    }\n",
       "\n",
       "    .dataframe tbody tr th {\n",
       "        vertical-align: top;\n",
       "    }\n",
       "\n",
       "    .dataframe thead th {\n",
       "        text-align: right;\n",
       "    }\n",
       "</style>\n",
       "<table border=\"1\" class=\"dataframe\">\n",
       "  <thead>\n",
       "    <tr style=\"text-align: right;\">\n",
       "      <th></th>\n",
       "      <th>Unnamed: 0</th>\n",
       "      <th>YearsExperience</th>\n",
       "      <th>Salary</th>\n",
       "    </tr>\n",
       "  </thead>\n",
       "  <tbody>\n",
       "    <tr>\n",
       "      <th>0</th>\n",
       "      <td>0</td>\n",
       "      <td>1.2</td>\n",
       "      <td>39344.0</td>\n",
       "    </tr>\n",
       "    <tr>\n",
       "      <th>1</th>\n",
       "      <td>1</td>\n",
       "      <td>1.4</td>\n",
       "      <td>46206.0</td>\n",
       "    </tr>\n",
       "    <tr>\n",
       "      <th>2</th>\n",
       "      <td>2</td>\n",
       "      <td>1.6</td>\n",
       "      <td>37732.0</td>\n",
       "    </tr>\n",
       "    <tr>\n",
       "      <th>3</th>\n",
       "      <td>3</td>\n",
       "      <td>2.1</td>\n",
       "      <td>43526.0</td>\n",
       "    </tr>\n",
       "    <tr>\n",
       "      <th>4</th>\n",
       "      <td>4</td>\n",
       "      <td>2.3</td>\n",
       "      <td>39892.0</td>\n",
       "    </tr>\n",
       "  </tbody>\n",
       "</table>\n",
       "</div>"
      ],
      "text/plain": [
       "   Unnamed: 0  YearsExperience   Salary\n",
       "0           0              1.2  39344.0\n",
       "1           1              1.4  46206.0\n",
       "2           2              1.6  37732.0\n",
       "3           3              2.1  43526.0\n",
       "4           4              2.3  39892.0"
      ]
     },
     "execution_count": 19,
     "metadata": {},
     "output_type": "execute_result"
    }
   ],
   "source": [
    "df.head()"
   ]
  },
  {
   "cell_type": "code",
   "execution_count": 20,
   "id": "44215c6b",
   "metadata": {},
   "outputs": [
    {
     "name": "stdout",
     "output_type": "stream",
     "text": [
      "<class 'pandas.core.frame.DataFrame'>\n",
      "RangeIndex: 30 entries, 0 to 29\n",
      "Data columns (total 3 columns):\n",
      " #   Column           Non-Null Count  Dtype  \n",
      "---  ------           --------------  -----  \n",
      " 0   Unnamed: 0       30 non-null     int64  \n",
      " 1   YearsExperience  30 non-null     float64\n",
      " 2   Salary           30 non-null     float64\n",
      "dtypes: float64(2), int64(1)\n",
      "memory usage: 848.0 bytes\n"
     ]
    }
   ],
   "source": [
    "df.info()"
   ]
  },
  {
   "cell_type": "code",
   "execution_count": 22,
   "id": "0eabe156",
   "metadata": {},
   "outputs": [],
   "source": [
    "x=df['YearsExperience']\n",
    "y=df['Salary']"
   ]
  },
  {
   "cell_type": "code",
   "execution_count": 23,
   "id": "b38af4be",
   "metadata": {},
   "outputs": [],
   "source": [
    "x_train,x_test,y_train,y_test=train_test_split(x,y,test_size=0.2,random_state=42)"
   ]
  },
  {
   "cell_type": "code",
   "execution_count": 24,
   "id": "48ba7ec3",
   "metadata": {},
   "outputs": [],
   "source": [
    "x_train=np.vstack((np.ones_like(x_train),x_train)).T\n",
    "x_test=np.vstack((np.ones_like(x_test),x_test)).T"
   ]
  },
  {
   "cell_type": "code",
   "execution_count": 25,
   "id": "2589c6a4",
   "metadata": {},
   "outputs": [],
   "source": [
    "def l_r(X,y,learning_rate,epochs):\n",
    "    m,n=X.shape\n",
    "    weights=np.zeros(n)\n",
    "    cost_list=[]\n",
    "    \n",
    "    for _ in range(epochs):\n",
    "        pred=np.dot(X,weights)\n",
    "        err=pred-y\n",
    "        #print('error',err)\n",
    "        gradient=np.dot(X.T,err)/m\n",
    "        #print(gradient)\n",
    "        weights-=learning_rate*gradient\n",
    "        \n",
    "        cost=(1/(2*m))*np.sum(err**2)\n",
    "        cost_list.append(cost)\n",
    "        \n",
    "    return weights,cost_list\n",
    "\n",
    "learning_rate=0.01\n",
    "epochs=10\n",
    "weights,cost_list=l_r(x_train,y_train,learning_rate,epochs)\n",
    "y_pred_test=np.dot(x_test,weights)\n",
    "mse=np.mean((y_test-y_pred_test)**2)\n",
    "rmse=np.sqrt(mse)\n",
    "mae=np.mean(np.abs(y_test-y_pred_test))\n",
    "total_varaince=np.sum(y_test-np.mean(y_test)**2)\n",
    "r2=1-(mse/total_varaince)"
   ]
  },
  {
   "cell_type": "code",
   "execution_count": 26,
   "id": "ae1768f5",
   "metadata": {},
   "outputs": [
    {
     "name": "stdout",
     "output_type": "stream",
     "text": [
      "rmse value is 11867.269561141406\n",
      "mse value is 140832086.83679333\n",
      " mae value is 10454.238961518182\n",
      " r2 score is 1.0033920349814154\n"
     ]
    }
   ],
   "source": [
    "print(f\"rmse value is {rmse}\")\n",
    "print(f\"mse value is {mse}\")\n",
    "print(f\" mae value is {mae}\")\n",
    "print(f\" r2 score is {r2}\")"
   ]
  },
  {
   "cell_type": "code",
   "execution_count": 27,
   "id": "64ded4f7",
   "metadata": {},
   "outputs": [
    {
     "data": {
      "text/html": [
       "<div>\n",
       "<style scoped>\n",
       "    .dataframe tbody tr th:only-of-type {\n",
       "        vertical-align: middle;\n",
       "    }\n",
       "\n",
       "    .dataframe tbody tr th {\n",
       "        vertical-align: top;\n",
       "    }\n",
       "\n",
       "    .dataframe thead th {\n",
       "        text-align: right;\n",
       "    }\n",
       "</style>\n",
       "<table border=\"1\" class=\"dataframe\">\n",
       "  <thead>\n",
       "    <tr style=\"text-align: right;\">\n",
       "      <th></th>\n",
       "      <th>Actual values</th>\n",
       "      <th>predict_values</th>\n",
       "      <th>Difference (actual - predicted)</th>\n",
       "    </tr>\n",
       "  </thead>\n",
       "  <tbody>\n",
       "    <tr>\n",
       "      <th>27</th>\n",
       "      <td>112636.0</td>\n",
       "      <td>123882.233875</td>\n",
       "      <td>-11246.233875</td>\n",
       "    </tr>\n",
       "    <tr>\n",
       "      <th>15</th>\n",
       "      <td>67939.0</td>\n",
       "      <td>64994.884291</td>\n",
       "      <td>2944.115709</td>\n",
       "    </tr>\n",
       "    <tr>\n",
       "      <th>23</th>\n",
       "      <td>113813.0</td>\n",
       "      <td>106341.321233</td>\n",
       "      <td>7471.678767</td>\n",
       "    </tr>\n",
       "    <tr>\n",
       "      <th>17</th>\n",
       "      <td>83089.0</td>\n",
       "      <td>70006.573617</td>\n",
       "      <td>13082.426383</td>\n",
       "    </tr>\n",
       "    <tr>\n",
       "      <th>8</th>\n",
       "      <td>64446.0</td>\n",
       "      <td>43695.204654</td>\n",
       "      <td>20750.795346</td>\n",
       "    </tr>\n",
       "    <tr>\n",
       "      <th>9</th>\n",
       "      <td>57190.0</td>\n",
       "      <td>49959.816312</td>\n",
       "      <td>7230.183688</td>\n",
       "    </tr>\n",
       "  </tbody>\n",
       "</table>\n",
       "</div>"
      ],
      "text/plain": [
       "    Actual values  predict_values  Difference (actual - predicted)\n",
       "27       112636.0   123882.233875                    -11246.233875\n",
       "15        67939.0    64994.884291                      2944.115709\n",
       "23       113813.0   106341.321233                      7471.678767\n",
       "17        83089.0    70006.573617                     13082.426383\n",
       "8         64446.0    43695.204654                     20750.795346\n",
       "9         57190.0    49959.816312                      7230.183688"
      ]
     },
     "execution_count": 27,
     "metadata": {},
     "output_type": "execute_result"
    }
   ],
   "source": [
    "res_df=pd.DataFrame({\n",
    "    'Actual values':y_test,\n",
    "    'predict_values':y_pred_test,\n",
    "    'Difference (actual - predicted)':y_test-y_pred_test\n",
    "})\n",
    "res_df"
   ]
  },
  {
   "cell_type": "code",
   "execution_count": 28,
   "id": "153d2f74",
   "metadata": {},
   "outputs": [
    {
     "data": {
      "image/png": "[encoded data removed]",
      "text/plain": [
       "<Figure size 432x288 with 1 Axes>"
      ]
     },
     "metadata": {
      "needs_background": "light"
     },
     "output_type": "display_data"
    }
   ],
   "source": [
    "\n",
    "plt.scatter(res_df['Actual values'], res_df['predict_values'], color='blue', label='Actual vs Predicted')\n",
    "\n",
    "plt.plot([min(res_df['Actual values']), max(res_df['Actual values'])],\n",
    "         [min(res_df['Actual values']), max(res_df['Actual values'])], linestyle='-', color='purple', label='Perfect Prediction')\n",
    "\n",
    "plt.xlabel('Actual Values')\n",
    "plt.ylabel('Predicted Values')\n",
    "plt.title('Linear Regression: Actual vs Predicted')\n",
    "plt.legend()\n",
    "\n",
    "plt.show()\n"
   ]
  },
  {
   "cell_type": "code",
   "execution_count": null,
   "id": "9c97ef1c",
   "metadata": {},
   "outputs": [],
   "source": []
  },
  {
   "cell_type": "code",
   "execution_count": null,
   "id": "d3b4605e",
   "metadata": {},
   "outputs": [],
   "source": []
  }
 ],
 "metadata": {
  "kernelspec": {
   "display_name": "Python 3",
   "language": "python",
   "name": "python3"
  },
  "language_info": {
   "codemirror_mode": {
    "name": "ipython",
    "version": 3
   },
   "file_extension": ".py",
   "mimetype": "text/x-python",
   "name": "python",
   "nbconvert_exporter": "python",
   "pygments_lexer": "ipython3",
   "version": "3.8.8"
  }
 },
 "nbformat": 4,
 "nbformat_minor": 5
}
