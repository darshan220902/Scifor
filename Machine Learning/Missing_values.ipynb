{
 "cells": [
  {
   "cell_type": "code",
   "execution_count": 26,
   "id": "79bd0e97",
   "metadata": {},
   "outputs": [],
   "source": [
    "import pandas as pd"
   ]
  },
  {
   "cell_type": "code",
   "execution_count": 27,
   "id": "86ef93c9",
   "metadata": {},
   "outputs": [],
   "source": [
    "df=pd.read_csv('202210-divvy-tripdata.csv')"
   ]
  },
  {
   "cell_type": "code",
   "execution_count": 28,
   "id": "35bb753d",
   "metadata": {},
   "outputs": [
    {
     "name": "stdout",
     "output_type": "stream",
     "text": [
      "<class 'pandas.core.frame.DataFrame'>\n",
      "RangeIndex: 558685 entries, 0 to 558684\n",
      "Data columns (total 13 columns):\n",
      " #   Column              Non-Null Count   Dtype  \n",
      "---  ------              --------------   -----  \n",
      " 0   ride_id             558685 non-null  object \n",
      " 1   rideable_type       558685 non-null  object \n",
      " 2   started_at          558685 non-null  object \n",
      " 3   ended_at            558685 non-null  object \n",
      " 4   start_station_name  467330 non-null  object \n",
      " 5   start_station_id    467330 non-null  object \n",
      " 6   end_station_name    462068 non-null  object \n",
      " 7   end_station_id      462068 non-null  object \n",
      " 8   start_lat           558685 non-null  float64\n",
      " 9   start_lng           558685 non-null  float64\n",
      " 10  end_lat             558210 non-null  float64\n",
      " 11  end_lng             558210 non-null  float64\n",
      " 12  member_casual       558685 non-null  object \n",
      "dtypes: float64(4), object(9)\n",
      "memory usage: 55.4+ MB\n"
     ]
    }
   ],
   "source": [
    "df.info()"
   ]
  },
  {
   "cell_type": "code",
   "execution_count": 29,
   "id": "871dd756",
   "metadata": {},
   "outputs": [
    {
     "data": {
      "text/plain": [
       "ride_id                   0\n",
       "rideable_type             0\n",
       "started_at                0\n",
       "ended_at                  0\n",
       "start_station_name    91355\n",
       "start_station_id      91355\n",
       "end_station_name      96617\n",
       "end_station_id        96617\n",
       "start_lat                 0\n",
       "start_lng                 0\n",
       "end_lat                 475\n",
       "end_lng                 475\n",
       "member_casual             0\n",
       "dtype: int64"
      ]
     },
     "execution_count": 29,
     "metadata": {},
     "output_type": "execute_result"
    }
   ],
   "source": [
    "df.isnull().sum()"
   ]
  },
  {
   "cell_type": "code",
   "execution_count": 30,
   "id": "dfb92ec2",
   "metadata": {},
   "outputs": [
    {
     "data": {
      "image/png": "[encoded data removed]",
      "text/plain": [
       "<Figure size 720x432 with 1 Axes>"
      ]
     },
     "metadata": {
      "needs_background": "light"
     },
     "output_type": "display_data"
    }
   ],
   "source": [
    "import seaborn as sns\n",
    "import matplotlib.pyplot as plt\n",
    "missing_values = df.isnull()\n",
    "plt.figure(figsize=(10, 6))\n",
    "sns.heatmap(missing_values, cmap='viridis', cbar=False, yticklabels=False)\n",
    "plt.title('Missing Values Heatmap')\n",
    "plt.show()"
   ]
  },
  {
   "cell_type": "code",
   "execution_count": 31,
   "id": "16a5c437",
   "metadata": {},
   "outputs": [
    {
     "data": {
      "text/html": [
       "<div>\n",
       "<style scoped>\n",
       "    .dataframe tbody tr th:only-of-type {\n",
       "        vertical-align: middle;\n",
       "    }\n",
       "\n",
       "    .dataframe tbody tr th {\n",
       "        vertical-align: top;\n",
       "    }\n",
       "\n",
       "    .dataframe thead th {\n",
       "        text-align: right;\n",
       "    }\n",
       "</style>\n",
       "<table border=\"1\" class=\"dataframe\">\n",
       "  <thead>\n",
       "    <tr style=\"text-align: right;\">\n",
       "      <th></th>\n",
       "      <th>ride_id</th>\n",
       "      <th>rideable_type</th>\n",
       "      <th>started_at</th>\n",
       "      <th>ended_at</th>\n",
       "      <th>start_station_name</th>\n",
       "      <th>start_station_id</th>\n",
       "      <th>end_station_name</th>\n",
       "      <th>end_station_id</th>\n",
       "      <th>start_lat</th>\n",
       "      <th>start_lng</th>\n",
       "      <th>end_lat</th>\n",
       "      <th>end_lng</th>\n",
       "      <th>member_casual</th>\n",
       "    </tr>\n",
       "  </thead>\n",
       "  <tbody>\n",
       "    <tr>\n",
       "      <th>0</th>\n",
       "      <td>A50255C1E17942AB</td>\n",
       "      <td>classic_bike</td>\n",
       "      <td>2022-10-14 17:13:30</td>\n",
       "      <td>2022-10-14 17:19:39</td>\n",
       "      <td>Noble St &amp; Milwaukee Ave</td>\n",
       "      <td>13290</td>\n",
       "      <td>Larrabee St &amp; Division St</td>\n",
       "      <td>KA1504000079</td>\n",
       "      <td>41.900680</td>\n",
       "      <td>-87.662600</td>\n",
       "      <td>41.903486</td>\n",
       "      <td>-87.643353</td>\n",
       "      <td>member</td>\n",
       "    </tr>\n",
       "    <tr>\n",
       "      <th>1</th>\n",
       "      <td>DB692A70BD2DD4E3</td>\n",
       "      <td>electric_bike</td>\n",
       "      <td>2022-10-01 16:29:26</td>\n",
       "      <td>2022-10-01 16:49:06</td>\n",
       "      <td>Damen Ave &amp; Charleston St</td>\n",
       "      <td>13288</td>\n",
       "      <td>Damen Ave &amp; Cullerton St</td>\n",
       "      <td>13089</td>\n",
       "      <td>41.920037</td>\n",
       "      <td>-87.677937</td>\n",
       "      <td>41.854967</td>\n",
       "      <td>-87.675700</td>\n",
       "      <td>casual</td>\n",
       "    </tr>\n",
       "    <tr>\n",
       "      <th>2</th>\n",
       "      <td>3C02727AAF60F873</td>\n",
       "      <td>electric_bike</td>\n",
       "      <td>2022-10-19 18:55:40</td>\n",
       "      <td>2022-10-19 19:03:30</td>\n",
       "      <td>Hoyne Ave &amp; Balmoral Ave</td>\n",
       "      <td>655</td>\n",
       "      <td>Western Ave &amp; Leland Ave</td>\n",
       "      <td>TA1307000140</td>\n",
       "      <td>41.979879</td>\n",
       "      <td>-87.681902</td>\n",
       "      <td>41.966400</td>\n",
       "      <td>-87.688704</td>\n",
       "      <td>member</td>\n",
       "    </tr>\n",
       "    <tr>\n",
       "      <th>3</th>\n",
       "      <td>47E653FDC2D99236</td>\n",
       "      <td>electric_bike</td>\n",
       "      <td>2022-10-31 07:52:36</td>\n",
       "      <td>2022-10-31 07:58:49</td>\n",
       "      <td>Rush St &amp; Cedar St</td>\n",
       "      <td>KA1504000133</td>\n",
       "      <td>Orleans St &amp; Chestnut St (NEXT Apts)</td>\n",
       "      <td>620</td>\n",
       "      <td>41.902274</td>\n",
       "      <td>-87.627692</td>\n",
       "      <td>41.898203</td>\n",
       "      <td>-87.637536</td>\n",
       "      <td>member</td>\n",
       "    </tr>\n",
       "    <tr>\n",
       "      <th>4</th>\n",
       "      <td>8B5407BE535159BF</td>\n",
       "      <td>classic_bike</td>\n",
       "      <td>2022-10-13 18:41:03</td>\n",
       "      <td>2022-10-13 19:26:18</td>\n",
       "      <td>900 W Harrison St</td>\n",
       "      <td>13028</td>\n",
       "      <td>Adler Planetarium</td>\n",
       "      <td>13431</td>\n",
       "      <td>41.874754</td>\n",
       "      <td>-87.649807</td>\n",
       "      <td>41.866095</td>\n",
       "      <td>-87.607267</td>\n",
       "      <td>casual</td>\n",
       "    </tr>\n",
       "  </tbody>\n",
       "</table>\n",
       "</div>"
      ],
      "text/plain": [
       "            ride_id  rideable_type           started_at             ended_at  \\\n",
       "0  A50255C1E17942AB   classic_bike  2022-10-14 17:13:30  2022-10-14 17:19:39   \n",
       "1  DB692A70BD2DD4E3  electric_bike  2022-10-01 16:29:26  2022-10-01 16:49:06   \n",
       "2  3C02727AAF60F873  electric_bike  2022-10-19 18:55:40  2022-10-19 19:03:30   \n",
       "3  47E653FDC2D99236  electric_bike  2022-10-31 07:52:36  2022-10-31 07:58:49   \n",
       "4  8B5407BE535159BF   classic_bike  2022-10-13 18:41:03  2022-10-13 19:26:18   \n",
       "\n",
       "          start_station_name start_station_id  \\\n",
       "0   Noble St & Milwaukee Ave            13290   \n",
       "1  Damen Ave & Charleston St            13288   \n",
       "2   Hoyne Ave & Balmoral Ave              655   \n",
       "3         Rush St & Cedar St     KA1504000133   \n",
       "4          900 W Harrison St            13028   \n",
       "\n",
       "                       end_station_name end_station_id  start_lat  start_lng  \\\n",
       "0             Larrabee St & Division St   KA1504000079  41.900680 -87.662600   \n",
       "1              Damen Ave & Cullerton St          13089  41.920037 -87.677937   \n",
       "2              Western Ave & Leland Ave   TA1307000140  41.979879 -87.681902   \n",
       "3  Orleans St & Chestnut St (NEXT Apts)            620  41.902274 -87.627692   \n",
       "4                     Adler Planetarium          13431  41.874754 -87.649807   \n",
       "\n",
       "     end_lat    end_lng member_casual  \n",
       "0  41.903486 -87.643353        member  \n",
       "1  41.854967 -87.675700        casual  \n",
       "2  41.966400 -87.688704        member  \n",
       "3  41.898203 -87.637536        member  \n",
       "4  41.866095 -87.607267        casual  "
      ]
     },
     "execution_count": 31,
     "metadata": {},
     "output_type": "execute_result"
    }
   ],
   "source": [
    "df.head()"
   ]
  },
  {
   "cell_type": "code",
   "execution_count": 32,
   "id": "efb0ca02",
   "metadata": {},
   "outputs": [
    {
     "data": {
      "text/html": [
       "<div>\n",
       "<style scoped>\n",
       "    .dataframe tbody tr th:only-of-type {\n",
       "        vertical-align: middle;\n",
       "    }\n",
       "\n",
       "    .dataframe tbody tr th {\n",
       "        vertical-align: top;\n",
       "    }\n",
       "\n",
       "    .dataframe thead th {\n",
       "        text-align: right;\n",
       "    }\n",
       "</style>\n",
       "<table border=\"1\" class=\"dataframe\">\n",
       "  <thead>\n",
       "    <tr style=\"text-align: right;\">\n",
       "      <th></th>\n",
       "      <th>start_lat</th>\n",
       "      <th>start_lng</th>\n",
       "      <th>end_lat</th>\n",
       "      <th>end_lng</th>\n",
       "    </tr>\n",
       "  </thead>\n",
       "  <tbody>\n",
       "    <tr>\n",
       "      <th>count</th>\n",
       "      <td>558685.000000</td>\n",
       "      <td>558685.000000</td>\n",
       "      <td>558210.000000</td>\n",
       "      <td>558210.000000</td>\n",
       "    </tr>\n",
       "    <tr>\n",
       "      <th>mean</th>\n",
       "      <td>41.900357</td>\n",
       "      <td>-87.647466</td>\n",
       "      <td>41.900541</td>\n",
       "      <td>-87.647658</td>\n",
       "    </tr>\n",
       "    <tr>\n",
       "      <th>std</th>\n",
       "      <td>0.047857</td>\n",
       "      <td>0.028777</td>\n",
       "      <td>0.047949</td>\n",
       "      <td>0.028856</td>\n",
       "    </tr>\n",
       "    <tr>\n",
       "      <th>min</th>\n",
       "      <td>41.640000</td>\n",
       "      <td>-87.840000</td>\n",
       "      <td>41.590000</td>\n",
       "      <td>-87.870000</td>\n",
       "    </tr>\n",
       "    <tr>\n",
       "      <th>25%</th>\n",
       "      <td>41.880000</td>\n",
       "      <td>-87.661501</td>\n",
       "      <td>41.880000</td>\n",
       "      <td>-87.661535</td>\n",
       "    </tr>\n",
       "    <tr>\n",
       "      <th>50%</th>\n",
       "      <td>41.897764</td>\n",
       "      <td>-87.644336</td>\n",
       "      <td>41.898418</td>\n",
       "      <td>-87.644571</td>\n",
       "    </tr>\n",
       "    <tr>\n",
       "      <th>75%</th>\n",
       "      <td>41.930000</td>\n",
       "      <td>-87.629671</td>\n",
       "      <td>41.930000</td>\n",
       "      <td>-87.629791</td>\n",
       "    </tr>\n",
       "    <tr>\n",
       "      <th>max</th>\n",
       "      <td>42.070000</td>\n",
       "      <td>-87.528232</td>\n",
       "      <td>42.130000</td>\n",
       "      <td>-87.520000</td>\n",
       "    </tr>\n",
       "  </tbody>\n",
       "</table>\n",
       "</div>"
      ],
      "text/plain": [
       "           start_lat      start_lng        end_lat        end_lng\n",
       "count  558685.000000  558685.000000  558210.000000  558210.000000\n",
       "mean       41.900357     -87.647466      41.900541     -87.647658\n",
       "std         0.047857       0.028777       0.047949       0.028856\n",
       "min        41.640000     -87.840000      41.590000     -87.870000\n",
       "25%        41.880000     -87.661501      41.880000     -87.661535\n",
       "50%        41.897764     -87.644336      41.898418     -87.644571\n",
       "75%        41.930000     -87.629671      41.930000     -87.629791\n",
       "max        42.070000     -87.528232      42.130000     -87.520000"
      ]
     },
     "execution_count": 32,
     "metadata": {},
     "output_type": "execute_result"
    }
   ],
   "source": [
    "df.describe()"
   ]
  },
  {
   "cell_type": "code",
   "execution_count": 33,
   "id": "96b0c2ee",
   "metadata": {},
   "outputs": [
    {
     "data": {
      "text/plain": [
       "array(['Noble St & Milwaukee Ave', 'Damen Ave & Charleston St',\n",
       "       'Hoyne Ave & Balmoral Ave', ...,\n",
       "       'Public Rack - Sawyer Ave & Chicago Ave',\n",
       "       'Public Rack - Pulaski Rd & 51st Rd',\n",
       "       'Public Rack - Halsted St & 63rd St'], dtype=object)"
      ]
     },
     "execution_count": 33,
     "metadata": {},
     "output_type": "execute_result"
    }
   ],
   "source": [
    "df['start_station_name'].unique()"
   ]
  },
  {
   "cell_type": "code",
   "execution_count": 34,
   "id": "20d7241c",
   "metadata": {},
   "outputs": [
    {
     "data": {
      "text/plain": [
       "electric_bike    332511\n",
       "classic_bike     213560\n",
       "docked_bike       12614\n",
       "Name: rideable_type, dtype: int64"
      ]
     },
     "execution_count": 34,
     "metadata": {},
     "output_type": "execute_result"
    }
   ],
   "source": [
    "df['rideable_type'].value_counts()\n"
   ]
  },
  {
   "cell_type": "code",
   "execution_count": 35,
   "id": "b17a0227",
   "metadata": {},
   "outputs": [],
   "source": [
    "df.dropna(inplace=True)"
   ]
  },
  {
   "cell_type": "code",
   "execution_count": 36,
   "id": "3c2a7b38",
   "metadata": {},
   "outputs": [
    {
     "name": "stdout",
     "output_type": "stream",
     "text": [
      "<class 'pandas.core.frame.DataFrame'>\n",
      "Int64Index: 414269 entries, 0 to 558684\n",
      "Data columns (total 13 columns):\n",
      " #   Column              Non-Null Count   Dtype  \n",
      "---  ------              --------------   -----  \n",
      " 0   ride_id             414269 non-null  object \n",
      " 1   rideable_type       414269 non-null  object \n",
      " 2   started_at          414269 non-null  object \n",
      " 3   ended_at            414269 non-null  object \n",
      " 4   start_station_name  414269 non-null  object \n",
      " 5   start_station_id    414269 non-null  object \n",
      " 6   end_station_name    414269 non-null  object \n",
      " 7   end_station_id      414269 non-null  object \n",
      " 8   start_lat           414269 non-null  float64\n",
      " 9   start_lng           414269 non-null  float64\n",
      " 10  end_lat             414269 non-null  float64\n",
      " 11  end_lng             414269 non-null  float64\n",
      " 12  member_casual       414269 non-null  object \n",
      "dtypes: float64(4), object(9)\n",
      "memory usage: 44.2+ MB\n"
     ]
    }
   ],
   "source": [
    "df.info()"
   ]
  },
  {
   "cell_type": "code",
   "execution_count": 37,
   "id": "fa0f28c8",
   "metadata": {},
   "outputs": [
    {
     "data": {
      "text/html": [
       "<div>\n",
       "<style scoped>\n",
       "    .dataframe tbody tr th:only-of-type {\n",
       "        vertical-align: middle;\n",
       "    }\n",
       "\n",
       "    .dataframe tbody tr th {\n",
       "        vertical-align: top;\n",
       "    }\n",
       "\n",
       "    .dataframe thead th {\n",
       "        text-align: right;\n",
       "    }\n",
       "</style>\n",
       "<table border=\"1\" class=\"dataframe\">\n",
       "  <thead>\n",
       "    <tr style=\"text-align: right;\">\n",
       "      <th></th>\n",
       "      <th>ride_id</th>\n",
       "      <th>rideable_type</th>\n",
       "      <th>started_at</th>\n",
       "      <th>ended_at</th>\n",
       "      <th>start_station_name</th>\n",
       "      <th>start_station_id</th>\n",
       "      <th>end_station_name</th>\n",
       "      <th>end_station_id</th>\n",
       "      <th>start_lat</th>\n",
       "      <th>start_lng</th>\n",
       "      <th>end_lat</th>\n",
       "      <th>end_lng</th>\n",
       "      <th>member_casual</th>\n",
       "    </tr>\n",
       "  </thead>\n",
       "  <tbody>\n",
       "    <tr>\n",
       "      <th>0</th>\n",
       "      <td>A50255C1E17942AB</td>\n",
       "      <td>classic_bike</td>\n",
       "      <td>2022-10-14 17:13:30</td>\n",
       "      <td>2022-10-14 17:19:39</td>\n",
       "      <td>Noble St &amp; Milwaukee Ave</td>\n",
       "      <td>13290</td>\n",
       "      <td>Larrabee St &amp; Division St</td>\n",
       "      <td>KA1504000079</td>\n",
       "      <td>41.900680</td>\n",
       "      <td>-87.662600</td>\n",
       "      <td>41.903486</td>\n",
       "      <td>-87.643353</td>\n",
       "      <td>member</td>\n",
       "    </tr>\n",
       "    <tr>\n",
       "      <th>1</th>\n",
       "      <td>DB692A70BD2DD4E3</td>\n",
       "      <td>electric_bike</td>\n",
       "      <td>2022-10-01 16:29:26</td>\n",
       "      <td>2022-10-01 16:49:06</td>\n",
       "      <td>Damen Ave &amp; Charleston St</td>\n",
       "      <td>13288</td>\n",
       "      <td>Damen Ave &amp; Cullerton St</td>\n",
       "      <td>13089</td>\n",
       "      <td>41.920037</td>\n",
       "      <td>-87.677937</td>\n",
       "      <td>41.854967</td>\n",
       "      <td>-87.675700</td>\n",
       "      <td>casual</td>\n",
       "    </tr>\n",
       "    <tr>\n",
       "      <th>2</th>\n",
       "      <td>3C02727AAF60F873</td>\n",
       "      <td>electric_bike</td>\n",
       "      <td>2022-10-19 18:55:40</td>\n",
       "      <td>2022-10-19 19:03:30</td>\n",
       "      <td>Hoyne Ave &amp; Balmoral Ave</td>\n",
       "      <td>655</td>\n",
       "      <td>Western Ave &amp; Leland Ave</td>\n",
       "      <td>TA1307000140</td>\n",
       "      <td>41.979879</td>\n",
       "      <td>-87.681902</td>\n",
       "      <td>41.966400</td>\n",
       "      <td>-87.688704</td>\n",
       "      <td>member</td>\n",
       "    </tr>\n",
       "    <tr>\n",
       "      <th>3</th>\n",
       "      <td>47E653FDC2D99236</td>\n",
       "      <td>electric_bike</td>\n",
       "      <td>2022-10-31 07:52:36</td>\n",
       "      <td>2022-10-31 07:58:49</td>\n",
       "      <td>Rush St &amp; Cedar St</td>\n",
       "      <td>KA1504000133</td>\n",
       "      <td>Orleans St &amp; Chestnut St (NEXT Apts)</td>\n",
       "      <td>620</td>\n",
       "      <td>41.902274</td>\n",
       "      <td>-87.627692</td>\n",
       "      <td>41.898203</td>\n",
       "      <td>-87.637536</td>\n",
       "      <td>member</td>\n",
       "    </tr>\n",
       "    <tr>\n",
       "      <th>4</th>\n",
       "      <td>8B5407BE535159BF</td>\n",
       "      <td>classic_bike</td>\n",
       "      <td>2022-10-13 18:41:03</td>\n",
       "      <td>2022-10-13 19:26:18</td>\n",
       "      <td>900 W Harrison St</td>\n",
       "      <td>13028</td>\n",
       "      <td>Adler Planetarium</td>\n",
       "      <td>13431</td>\n",
       "      <td>41.874754</td>\n",
       "      <td>-87.649807</td>\n",
       "      <td>41.866095</td>\n",
       "      <td>-87.607267</td>\n",
       "      <td>casual</td>\n",
       "    </tr>\n",
       "  </tbody>\n",
       "</table>\n",
       "</div>"
      ],
      "text/plain": [
       "            ride_id  rideable_type           started_at             ended_at  \\\n",
       "0  A50255C1E17942AB   classic_bike  2022-10-14 17:13:30  2022-10-14 17:19:39   \n",
       "1  DB692A70BD2DD4E3  electric_bike  2022-10-01 16:29:26  2022-10-01 16:49:06   \n",
       "2  3C02727AAF60F873  electric_bike  2022-10-19 18:55:40  2022-10-19 19:03:30   \n",
       "3  47E653FDC2D99236  electric_bike  2022-10-31 07:52:36  2022-10-31 07:58:49   \n",
       "4  8B5407BE535159BF   classic_bike  2022-10-13 18:41:03  2022-10-13 19:26:18   \n",
       "\n",
       "          start_station_name start_station_id  \\\n",
       "0   Noble St & Milwaukee Ave            13290   \n",
       "1  Damen Ave & Charleston St            13288   \n",
       "2   Hoyne Ave & Balmoral Ave              655   \n",
       "3         Rush St & Cedar St     KA1504000133   \n",
       "4          900 W Harrison St            13028   \n",
       "\n",
       "                       end_station_name end_station_id  start_lat  start_lng  \\\n",
       "0             Larrabee St & Division St   KA1504000079  41.900680 -87.662600   \n",
       "1              Damen Ave & Cullerton St          13089  41.920037 -87.677937   \n",
       "2              Western Ave & Leland Ave   TA1307000140  41.979879 -87.681902   \n",
       "3  Orleans St & Chestnut St (NEXT Apts)            620  41.902274 -87.627692   \n",
       "4                     Adler Planetarium          13431  41.874754 -87.649807   \n",
       "\n",
       "     end_lat    end_lng member_casual  \n",
       "0  41.903486 -87.643353        member  \n",
       "1  41.854967 -87.675700        casual  \n",
       "2  41.966400 -87.688704        member  \n",
       "3  41.898203 -87.637536        member  \n",
       "4  41.866095 -87.607267        casual  "
      ]
     },
     "execution_count": 37,
     "metadata": {},
     "output_type": "execute_result"
    }
   ],
   "source": [
    "df.head()"
   ]
  },
  {
   "cell_type": "code",
   "execution_count": null,
   "id": "3c54428d",
   "metadata": {},
   "outputs": [],
   "source": []
  }
 ],
 "metadata": {
  "kernelspec": {
   "display_name": "Python 3",
   "language": "python",
   "name": "python3"
  },
  "language_info": {
   "codemirror_mode": {
    "name": "ipython",
    "version": 3
   },
   "file_extension": ".py",
   "mimetype": "text/x-python",
   "name": "python",
   "nbconvert_exporter": "python",
   "pygments_lexer": "ipython3",
   "version": "3.8.8"
  }
 },
 "nbformat": 4,
 "nbformat_minor": 5
}
